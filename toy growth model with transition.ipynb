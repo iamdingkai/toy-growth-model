{
 "cells": [
  {
   "cell_type": "code",
   "execution_count": 1,
   "metadata": {},
   "outputs": [],
   "source": [
    "import numpy as np\n",
    "import matplotlib.pyplot as plt\n",
    "from scipy import interpolate\n",
    "from scipy.optimize import fsolve"
   ]
  },
  {
   "cell_type": "code",
   "execution_count": 87,
   "metadata": {},
   "outputs": [
    {
     "name": "stdout",
     "output_type": "stream",
     "text": [
      "kold= 6.601951961604987 , knew= 19.17765184800777\n",
      "cold= 1.6058131275031666 , cnew= 4.664639378068053\n"
     ]
    }
   ],
   "source": [
    "# parameters in the model\n",
    "beta=0.95 # discount factor (annual model)\n",
    "gamma=3 # CRRA parameter in utility function\n",
    "alp=0.35 # capital share in production function\n",
    "de=0.05 # depreciation rate of capital\n",
    "\n",
    "z=2 # factor by which TFP (technology) has increased\n",
    "\n",
    "# utility function\n",
    "u=lambda c: np.power(c,1-gamma)/(1-gamma)\n",
    "up=lambda c: np.power(c,-gamma) # marginal utility function\n",
    "\n",
    "# production function\n",
    "f=lambda k: np.power(k,alp)\n",
    "\n",
    "# marginal product function\n",
    "fp=lambda k: alp*np.power(k,alp-1)\n",
    "\n",
    "# inverse of f', used to calculate steady state capital kMax\n",
    "fp_inv=lambda fp: np.power(alp/fp,1/(1-alp))\n",
    "\n",
    "kold=fp_inv(1/beta-1+de) # steady state capital under old technology f(k)\n",
    "knew=fp_inv((1/beta-1+de)/z) # steady state capital under new technology z*f(k)\n",
    "\n",
    "cold=f(kold)+(1-de)*kold-kold # steady state consumption under f(k)\n",
    "cnew=z*f(knew)+(1-de)*knew-knew # steady state consumption under z*f(k)\n",
    "\n",
    "print('kold=',kold,', knew=',knew)\n",
    "print('cold=',cold,', cnew=',cnew)\n",
    "\n"
   ]
  },
  {
   "cell_type": "code",
   "execution_count": 93,
   "metadata": {},
   "outputs": [
    {
     "name": "stdout",
     "output_type": "stream",
     "text": [
      "max Euler error= 5.941365455175429e-11 min Euler error= -0.017718569820647928\n"
     ]
    },
    {
     "data": {
      "text/plain": [
       "Text(0.5, 1.0, 'transition path for consumption c(t)')"
      ]
     },
     "execution_count": 93,
     "metadata": {},
     "output_type": "execute_result"
    },
    {
     "data": {
      "image/png": "[encoded data removed]",
      "text/plain": [
       "<Figure size 1080x360 with 2 Axes>"
      ]
     },
     "metadata": {
      "needs_background": "light"
     },
     "output_type": "display_data"
    }
   ],
   "source": [
    "T=120 # ssume transition is complete in T periods\n",
    "\n",
    "temp=np.linspace(kold,knew,T) # initial guess of capital during transition\n",
    "kT_middle_guess=temp[1:T-1]\n",
    "\n",
    "# function: \n",
    "# input: time series of k (start and end points fixed)\n",
    "# output: calculate how much Euler equations are off\n",
    "def fun_Euler_Equations(kT_middle):\n",
    "    \n",
    "    kT=np.hstack([kold,kT_middle,knew])\n",
    "    \n",
    "    # calculate consumption levels from kT\n",
    "    cT=[np.nan]*T\n",
    "    cT[0:T-1]=z*f(kT[0:T-1])+(1-de)*kT[0:T-1]-kT[1:T]\n",
    "    cT[T-1]=z*f(kT[T-1])+(1-de)*kT[T-1]-kT[T-1]\n",
    "\n",
    "    # evaluate how much Euler's are off\n",
    "    EulerT=[np.nan]*T\n",
    "    for t in np.arange(T):\n",
    "        if t<=T-2:\n",
    "            EulerT[t]=up(cT[t])-beta*(1-de+z*fp(kT[t]))*up(cT[t+1])\n",
    "        else:\n",
    "            EulerT[t]=up(cT[T-1])-beta*(1-de+z*fp(kT[T-1]))*up(cT[T-1])\n",
    "    return EulerT[0:T-2]\n",
    "\n",
    "# use nonlinear solver to solve for kT sequence\n",
    "kT_middle=fsolve(fun_Euler_Equations,kT_middle_guess)\n",
    "\n",
    "kT=np.hstack([kold,kT_middle,knew])\n",
    "print('max Euler error=',max(fun_Euler_Equations(kT)),'min Euler error=',min(fun_Euler_Equations(kT)))\n",
    "\n",
    "# calculate the corresponding consumption levels\n",
    "cT=[np.nan]*T\n",
    "cT[0:T-1]=z*f(kT[0:T-1])+(1-de)*kT[0:T-1]-kT[1:T]\n",
    "cT[T-1]=z*f(kT[T-1])+(1-de)*kT[T-1]-kT[T-1]\n",
    "\n",
    "plt.figure(figsize=(15,5))\n",
    "\n",
    "plt.subplot(1,2,1)\n",
    "plt.plot(np.arange(T),kT,'ro-',np.arange(T),[kold]*T,'b--',np.arange(T),[knew]*T,'g--')\n",
    "plt.legend(['transition path k(t)','k initial','k end'])\n",
    "plt.title('transition path for capital k(t)')\n",
    "\n",
    "plt.subplot(1,2,2)\n",
    "plt.plot(np.hstack([0,np.arange(T)]),np.hstack([cold,cT]),'ro-',np.arange(T),[cold]*T,'b--',np.arange(T),[cnew]*T,'g--')\n",
    "plt.legend(['transition path c(t)','c initial','c end'])\n",
    "plt.title('transition path for consumption c(t)')\n",
    "\n"
   ]
  }
 ],
 "metadata": {
  "kernelspec": {
   "display_name": "Python 3",
   "language": "python",
   "name": "python3"
  },
  "language_info": {
   "codemirror_mode": {
    "name": "ipython",
    "version": 3
   },
   "file_extension": ".py",
   "mimetype": "text/x-python",
   "name": "python",
   "nbconvert_exporter": "python",
   "pygments_lexer": "ipython3",
   "version": "3.8.3"
  }
 },
 "nbformat": 4,
 "nbformat_minor": 4
}
